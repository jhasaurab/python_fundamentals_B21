{
 "cells": [
  {
   "cell_type": "code",
   "execution_count": 2,
   "metadata": {},
   "outputs": [],
   "source": [
    "#Continuation with Lists\n",
    "# organising the list:"
   ]
  },
  {
   "cell_type": "code",
   "execution_count": 3,
   "metadata": {},
   "outputs": [
    {
     "name": "stdout",
     "output_type": "stream",
     "text": [
      "['maruti', 'honda', 'kia', 'bmw', 'benz', 'audi']\n"
     ]
    }
   ],
   "source": [
    "cars = ['maruti','honda','kia','bmw','benz','audi']\n",
    "print(cars)\n"
   ]
  },
  {
   "cell_type": "code",
   "execution_count": 4,
   "metadata": {},
   "outputs": [
    {
     "data": {
      "text/plain": [
       "list"
      ]
     },
     "execution_count": 4,
     "metadata": {},
     "output_type": "execute_result"
    }
   ],
   "source": [
    "type(cars)"
   ]
  },
  {
   "cell_type": "code",
   "execution_count": 6,
   "metadata": {},
   "outputs": [],
   "source": [
    "#req: I want to organise the list in a alphabetical order.\n",
    "# 2 method are there to achive.\n",
    "\n",
    "#temp method ====>\n",
    "#permanent method ====> permanently chanes will be implied\n"
   ]
  },
  {
   "cell_type": "code",
   "execution_count": 7,
   "metadata": {},
   "outputs": [],
   "source": [
    "# using the temp way. sorted method implemetion # b, b, validation will be shifted to next letter e, m\n"
   ]
  },
  {
   "cell_type": "code",
   "execution_count": 8,
   "metadata": {},
   "outputs": [
    {
     "name": "stdout",
     "output_type": "stream",
     "text": [
      "['audi', 'benz', 'bmw', 'honda', 'kia', 'maruti']\n",
      "['maruti', 'honda', 'kia', 'bmw', 'benz', 'audi']\n"
     ]
    }
   ],
   "source": [
    "print(sorted(cars))\n",
    "\n",
    "print(cars) #original order defined back .. !\n"
   ]
  },
  {
   "cell_type": "code",
   "execution_count": 9,
   "metadata": {},
   "outputs": [],
   "source": [
    "# permanent way ... implement implemention of sort method."
   ]
  },
  {
   "cell_type": "code",
   "execution_count": 10,
   "metadata": {},
   "outputs": [
    {
     "name": "stdout",
     "output_type": "stream",
     "text": [
      "['audi', 'benz', 'bmw', 'honda', 'kia', 'maruti']\n"
     ]
    }
   ],
   "source": [
    "cars.sort()\n",
    "print(cars)"
   ]
  },
  {
   "cell_type": "code",
   "execution_count": 11,
   "metadata": {},
   "outputs": [
    {
     "name": "stdout",
     "output_type": "stream",
     "text": [
      "['audi', 'benz', 'bmw', 'honda', 'kia', 'maruti']\n"
     ]
    }
   ],
   "source": [
    "print(cars)"
   ]
  },
  {
   "cell_type": "code",
   "execution_count": 13,
   "metadata": {},
   "outputs": [],
   "source": [
    "#**sort (no original order will be there) vs sorted (original list order wil be there)"
   ]
  },
  {
   "cell_type": "code",
   "execution_count": 14,
   "metadata": {},
   "outputs": [],
   "source": [
    "cars.reverse()"
   ]
  },
  {
   "cell_type": "code",
   "execution_count": 15,
   "metadata": {},
   "outputs": [
    {
     "name": "stdout",
     "output_type": "stream",
     "text": [
      "['maruti', 'kia', 'honda', 'bmw', 'benz', 'audi']\n"
     ]
    }
   ],
   "source": [
    "print(cars)"
   ]
  },
  {
   "cell_type": "code",
   "execution_count": 16,
   "metadata": {},
   "outputs": [
    {
     "data": {
      "text/plain": [
       "6"
      ]
     },
     "execution_count": 16,
     "metadata": {},
     "output_type": "execute_result"
    }
   ],
   "source": [
    "# req : I wanted to know how many elements are there in my list.. !\n",
    "len(cars)"
   ]
  },
  {
   "cell_type": "code",
   "execution_count": 17,
   "metadata": {},
   "outputs": [],
   "source": [
    "my_students = ['kiran','ezaz','senthil','yasmeen','chandra','bushra','sushmitha']\n"
   ]
  },
  {
   "cell_type": "code",
   "execution_count": 18,
   "metadata": {},
   "outputs": [
    {
     "name": "stdout",
     "output_type": "stream",
     "text": [
      "['kiran', 'ezaz', 'senthil', 'yasmeen', 'chandra', 'bushra', 'sushmitha']\n"
     ]
    }
   ],
   "source": [
    "print(my_students)"
   ]
  },
  {
   "cell_type": "code",
   "execution_count": 21,
   "metadata": {},
   "outputs": [
    {
     "name": "stdout",
     "output_type": "stream",
     "text": [
      "Keep up the good work, Kiran\n"
     ]
    }
   ],
   "source": [
    "print(f\"Keep up the good work, {my_students[0].title()}\")"
   ]
  },
  {
   "cell_type": "code",
   "execution_count": 22,
   "metadata": {},
   "outputs": [
    {
     "name": "stdout",
     "output_type": "stream",
     "text": [
      "Keep up the good work, Ezaz\n"
     ]
    }
   ],
   "source": [
    "print(f\"Keep up the good work, {my_students[1].title()}\")"
   ]
  },
  {
   "cell_type": "code",
   "execution_count": 23,
   "metadata": {},
   "outputs": [
    {
     "name": "stdout",
     "output_type": "stream",
     "text": [
      "keep up the good work, Kiran\n",
      "keep up the good work, Ezaz\n",
      "keep up the good work, Senthil\n",
      "keep up the good work, Yasmeen\n",
      "keep up the good work, Chandra\n",
      "keep up the good work, Bushra\n",
      "keep up the good work, Sushmitha\n"
     ]
    }
   ],
   "source": [
    "for students in my_students:\n",
    "\tprint(f\"keep up the good work, {students.title()}\")"
   ]
  },
  {
   "cell_type": "code",
   "execution_count": 24,
   "metadata": {},
   "outputs": [],
   "source": [
    "a = [\"Sourabh\",\"Vineet\",\"Dinesh\",\"Manjeet\",\"Anil\",\"Aashish\",\"Jeevan\",\"Subodh\",\"Aryan\"]"
   ]
  },
  {
   "cell_type": "code",
   "execution_count": 34,
   "metadata": {},
   "outputs": [
    {
     "name": "stdout",
     "output_type": "stream",
     "text": [
      "['Sourabh', 'Vineet', 'Dinesh', 'Manjeet', 'Anil', 'Aashish', 'Jeevan', 'Subodh', 'Aryan']\n"
     ]
    }
   ],
   "source": [
    "print(a\n",
    "    )"
   ]
  },
  {
   "cell_type": "code",
   "execution_count": 49,
   "metadata": {},
   "outputs": [
    {
     "name": "stdout",
     "output_type": "stream",
     "text": [
      "keep up the good work, Sourabh\n",
      "keep up the good work, Vineet\n",
      "keep up the good work, Dinesh\n",
      "keep up the good work, Manjeet\n",
      "keep up the good work, Anil\n",
      "keep up the good work, Aashish\n",
      "keep up the good work, Jeevan\n",
      "keep up the good work, Subodh\n",
      "keep up the good work, Aryan\n"
     ]
    }
   ],
   "source": [
    "for ab in a:\n",
    "\tprint(f\"keep up the good work, {ab.title()}\")"
   ]
  },
  {
   "cell_type": "code",
   "execution_count": 50,
   "metadata": {},
   "outputs": [
    {
     "name": "stdout",
     "output_type": "stream",
     "text": [
      "keep up the good work, Sourabh\n",
      "keep up the good work, Vineet\n",
      "keep up the good work, Dinesh\n",
      "keep up the good work, Manjeet\n",
      "keep up the good work, Anil\n",
      "keep up the good work, Aashish\n",
      "keep up the good work, Jeevan\n",
      "keep up the good work, Subodh\n",
      "keep up the good work, Aryan\n"
     ]
    }
   ],
   "source": [
    "for ab in a:\n",
    "\tprint(f\"keep up the good work, {ab.title()}\")"
   ]
  },
  {
   "cell_type": "code",
   "execution_count": 46,
   "metadata": {},
   "outputs": [
    {
     "name": "stdout",
     "output_type": "stream",
     "text": [
      "keep up the good work, Sourabh\n",
      "keep up the good work, Vineet\n",
      "keep up the good work, Dinesh\n",
      "keep up the good work, Manjeet\n",
      "keep up the good work, Anil\n",
      "keep up the good work, Aashish\n",
      "keep up the good work, Jeevan\n",
      "keep up the good work, Subodh\n",
      "keep up the good work, Aryan\n"
     ]
    }
   ],
   "source": [
    "for ab in a:\n",
    "\tprint(f\"keep up the good work, {ab.title()}\")"
   ]
  },
  {
   "cell_type": "code",
   "execution_count": null,
   "metadata": {},
   "outputs": [],
   "source": []
  },
  {
   "cell_type": "code",
   "execution_count": null,
   "metadata": {},
   "outputs": [],
   "source": []
  },
  {
   "cell_type": "code",
   "execution_count": null,
   "metadata": {},
   "outputs": [],
   "source": []
  }
 ],
 "metadata": {
  "kernelspec": {
   "display_name": "Python 3",
   "language": "python",
   "name": "python3"
  },
  "language_info": {
   "codemirror_mode": {
    "name": "ipython",
    "version": 3
   },
   "file_extension": ".py",
   "mimetype": "text/x-python",
   "name": "python",
   "nbconvert_exporter": "python",
   "pygments_lexer": "ipython3",
   "version": "3.7.6"
  }
 },
 "nbformat": 4,
 "nbformat_minor": 4
}
